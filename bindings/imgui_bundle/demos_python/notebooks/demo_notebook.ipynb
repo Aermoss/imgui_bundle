{
 "cells": [
  {
   "cell_type": "code",
   "execution_count": 8,
   "metadata": {},
   "outputs": [],
   "source": [
    "import imgui_bundle\n",
    "from imgui_bundle import implot, imgui, imgui_knobs, immapp\n",
    "import time\n",
    "import numpy as np"
   ]
  },
  {
   "cell_type": "code",
   "execution_count": 9,
   "metadata": {
    "code_folding": []
   },
   "outputs": [
    {
     "data": {
      "image/png": "[encoded data removed]",
      "text/plain": [
       "<PIL.Image.Image image mode=RGB size=150x225>"
      ]
     },
     "metadata": {},
     "output_type": "display_data"
    },
    {
     "data": {
      "text/html": [
       "\n",
       "        <script>\n",
       "        function btnClick_None(btn) {\n",
       "            // alert(\"btnClick_None\");\n",
       "            cell_element = btn.parentElement.parentElement.parentElement.parentElement.parentElement;\n",
       "            cell_idx = Jupyter.notebook.get_cell_elements().index(cell_element)\n",
       "            IPython.notebook.kernel.execute(\"imgui_bundle.JAVASCRIPT_RUN_ID='None'\")\n",
       "            Jupyter.notebook.execute_cells([cell_idx])\n",
       "        }\n",
       "        </script>        \n",
       "        <button onClick=\"btnClick_None(this)\">Run</button>\n",
       "        "
      ],
      "text/plain": [
       "<IPython.core.display.HTML object>"
      ]
     },
     "metadata": {},
     "output_type": "display_data"
    }
   ],
   "source": [
    "def haiku_heart():\n",
    "    vals = np.arange(0, np.pi * 2, 0.01)\n",
    "    x = np.power(np.sin(vals), 3) * 16\n",
    "    y = 13 * np.cos(vals) - 5 * np.cos(2 * vals) - 2 * np.cos(3 * vals) - np.cos(4 * vals)\n",
    "\n",
    "    phase = 0\n",
    "    t0 = time.time() + 0.2\n",
    "    heart_pulse_rate = 80\n",
    "\n",
    "    def gui():\n",
    "        nonlocal heart_pulse_rate, phase, t0\n",
    "        t = time.time()\n",
    "        phase += (t - t0) * heart_pulse_rate / (np.pi * 2)\n",
    "        k = 0.8 + 0.1 * np.cos(phase)\n",
    "        t0 = t\n",
    "        imgui.text(\"Bloat free code\")\n",
    "        implot.begin_plot(\"Heart\")\n",
    "        implot.plot_line(\"\", x * k, y * k)\n",
    "        implot.end_plot()\n",
    "        _, heart_pulse_rate = imgui_knobs.knob(\"Pulse\", heart_pulse_rate, 30, 180)\n",
    "\n",
    "    immapp.run_nb(gui, window_size=(300, 450), fps_idle=20, thumbnail_ratio=0.25)\n",
    "\n",
    "\n",
    "haiku_heart()"
   ]
  },
  {
   "cell_type": "code",
   "execution_count": 4,
   "metadata": {},
   "outputs": [
    {
     "ename": "AttributeError",
     "evalue": "module 'imgui_bundle' has no attribute 'run'",
     "output_type": "error",
     "traceback": [
      "\u001b[0;31m---------------------------------------------------------------------------\u001b[0m",
      "\u001b[0;31mAttributeError\u001b[0m                            Traceback (most recent call last)",
      "Cell \u001b[0;32mIn [4], line 17\u001b[0m\n\u001b[1;32m     13\u001b[0m         implot\u001b[38;5;241m.\u001b[39mplot_scatter(\u001b[38;5;124m\"\u001b[39m\u001b[38;5;124mScatter\u001b[39m\u001b[38;5;124m\"\u001b[39m, dot)\n\u001b[1;32m     14\u001b[0m         implot\u001b[38;5;241m.\u001b[39mend_plot()\n\u001b[0;32m---> 17\u001b[0m \u001b[43mimmapp\u001b[49m\u001b[38;5;241;43m.\u001b[39;49m\u001b[43mrun_nb\u001b[49m\u001b[43m(\u001b[49m\u001b[43mmixed_plot\u001b[49m\u001b[43m,\u001b[49m\u001b[43m \u001b[49m\u001b[43mwindow_size\u001b[49m\u001b[38;5;241;43m=\u001b[39;49m\u001b[43m(\u001b[49m\u001b[38;5;241;43m800\u001b[39;49m\u001b[43m,\u001b[49m\u001b[43m \u001b[49m\u001b[38;5;241;43m500\u001b[39;49m\u001b[43m)\u001b[49m\u001b[43m,\u001b[49m\u001b[43m \u001b[49m\u001b[43mthumbnail_height\u001b[49m\u001b[38;5;241;43m=\u001b[39;49m\u001b[38;5;241;43m150\u001b[39;49m\u001b[43m)\u001b[49m\n",
      "File \u001b[0;32m~/dvp/OpenSource/ImGuiWork/litgen/demos/litgen/imgui_bundle/venv/lib/python3.11/site-packages/imgui_bundle/immapp/immapp_utils.py:151\u001b[0m, in \u001b[0;36mrun_nb\u001b[0;34m(gui_function, window_title, run_id, window_size_auto, window_restore_previous_geometry, window_size, fps_idle, with_implot, with_markdown, with_node_editor, thumbnail_height, thumbnail_ratio)\u001b[0m\n\u001b[1;32m    148\u001b[0m     display(HTML(html_code))\n\u001b[1;32m    150\u001b[0m \u001b[38;5;28;01mif\u001b[39;00m run_id \u001b[38;5;129;01mis\u001b[39;00m \u001b[38;5;28;01mNone\u001b[39;00m:\n\u001b[0;32m--> 151\u001b[0m     \u001b[43mrun_app_and_display_thumb\u001b[49m\u001b[43m(\u001b[49m\u001b[43m)\u001b[49m\n\u001b[1;32m    152\u001b[0m \u001b[38;5;28;01melse\u001b[39;00m:\n\u001b[1;32m    153\u001b[0m     \u001b[38;5;28;01mif\u001b[39;00m \u001b[38;5;28mhasattr\u001b[39m(imgui_bundle, \u001b[38;5;124m\"\u001b[39m\u001b[38;5;124mJAVASCRIPT_RUN_ID\u001b[39m\u001b[38;5;124m\"\u001b[39m):\n",
      "File \u001b[0;32m~/dvp/OpenSource/ImGuiWork/litgen/demos/litgen/imgui_bundle/venv/lib/python3.11/site-packages/imgui_bundle/immapp/immapp_utils.py:130\u001b[0m, in \u001b[0;36mrun_nb.<locals>.run_app_and_display_thumb\u001b[0;34m()\u001b[0m\n\u001b[1;32m    127\u001b[0m \u001b[38;5;28;01mdef\u001b[39;00m \u001b[38;5;21mrun_app_and_display_thumb\u001b[39m():\n\u001b[1;32m    128\u001b[0m     \u001b[38;5;28;01mfrom\u001b[39;00m \u001b[38;5;21;01mimgui_bundle\u001b[39;00m \u001b[38;5;28;01mimport\u001b[39;00m hello_imgui\n\u001b[0;32m--> 130\u001b[0m     \u001b[43mrun_app\u001b[49m\u001b[43m(\u001b[49m\u001b[43m)\u001b[49m\n\u001b[1;32m    131\u001b[0m     app_image \u001b[38;5;241m=\u001b[39m hello_imgui\u001b[38;5;241m.\u001b[39mfinal_app_window_screenshot()\n\u001b[1;32m    132\u001b[0m     thumbnail \u001b[38;5;241m=\u001b[39m make_thumbnail(app_image)\n",
      "File \u001b[0;32m~/dvp/OpenSource/ImGuiWork/litgen/demos/litgen/imgui_bundle/venv/lib/python3.11/site-packages/imgui_bundle/immapp/immapp_utils.py:98\u001b[0m, in \u001b[0;36mrun_nb.<locals>.run_app\u001b[0;34m()\u001b[0m\n\u001b[1;32m     95\u001b[0m \u001b[38;5;28;01mif\u001b[39;00m window_size[\u001b[38;5;241m0\u001b[39m] \u001b[38;5;241m>\u001b[39m \u001b[38;5;241m0\u001b[39m \u001b[38;5;129;01mand\u001b[39;00m window_size[\u001b[38;5;241m1\u001b[39m] \u001b[38;5;241m>\u001b[39m \u001b[38;5;241m0\u001b[39m:\n\u001b[1;32m     96\u001b[0m     window_size_auto \u001b[38;5;241m=\u001b[39m \u001b[38;5;28;01mFalse\u001b[39;00m\n\u001b[0;32m---> 98\u001b[0m \u001b[43mimgui_bundle\u001b[49m\u001b[38;5;241;43m.\u001b[39;49m\u001b[43mrun\u001b[49m(\n\u001b[1;32m     99\u001b[0m     gui_function\u001b[38;5;241m=\u001b[39mgui_function,\n\u001b[1;32m    100\u001b[0m     window_title\u001b[38;5;241m=\u001b[39mwindow_title,\n\u001b[1;32m    101\u001b[0m     window_size_auto\u001b[38;5;241m=\u001b[39mwindow_size_auto,\n\u001b[1;32m    102\u001b[0m     window_restore_previous_geometry\u001b[38;5;241m=\u001b[39mwindow_restore_previous_geometry,\n\u001b[1;32m    103\u001b[0m     window_size\u001b[38;5;241m=\u001b[39mwindow_size,\n\u001b[1;32m    104\u001b[0m     fps_idle\u001b[38;5;241m=\u001b[39mfps_idle,\n\u001b[1;32m    105\u001b[0m     with_implot\u001b[38;5;241m=\u001b[39mwith_implot,\n\u001b[1;32m    106\u001b[0m     with_markdown\u001b[38;5;241m=\u001b[39mwith_markdown,\n\u001b[1;32m    107\u001b[0m     with_node_editor\u001b[38;5;241m=\u001b[39mwith_node_editor,\n\u001b[1;32m    108\u001b[0m )\n",
      "\u001b[0;31mAttributeError\u001b[0m: module 'imgui_bundle' has no attribute 'run'"
     ]
    }
   ],
   "source": [
    "lin = np.array([8, 8, 9, 7, 8, 8, 8, 9, 7, 8])\n",
    "bar = np.array([1, 2, 5, 3, 4, 1, 2, 5, 3, 4])\n",
    "dot = np.array([7, 6, 6, 7, 8, 5, 6, 5, 8, 7])\n",
    "\n",
    "\n",
    "def mixed_plot():\n",
    "    imgui.style_colors_light()\n",
    "    if implot.begin_plot(\"Mixed plot\"):\n",
    "        implot.setup_axes(\"x-axis\", \"y-axis\")\n",
    "        implot.setup_axes_limits(-0.5, 9.5, 0, 10)\n",
    "        implot.plot_bars(\"Bars\", bar, 0.5)\n",
    "        implot.plot_line(\"Line\", lin)\n",
    "        implot.plot_scatter(\"Scatter\", dot)\n",
    "        implot.end_plot()\n",
    "\n",
    "\n",
    "immapp.run_nb(mixed_plot, window_size=(800, 500), thumbnail_height=150)"
   ]
  },
  {
   "cell_type": "code",
   "execution_count": 16,
   "metadata": {},
   "outputs": [
    {
     "data": {
      "image/png": "[encoded data removed]",
      "text/plain": [
       "<PIL.Image.Image image mode=RGB size=200x200>"
      ]
     },
     "metadata": {},
     "output_type": "display_data"
    },
    {
     "data": {
      "text/html": [
       "\n",
       "        <script>\n",
       "        function btnClick_None(btn) {\n",
       "            // alert(\"btnClick_None\");\n",
       "            cell_element = btn.parentElement.parentElement.parentElement.parentElement.parentElement;\n",
       "            cell_idx = Jupyter.notebook.get_cell_elements().index(cell_element)\n",
       "            IPython.notebook.kernel.execute(\"imgui_bundle.JAVASCRIPT_RUN_ID='None'\")\n",
       "            Jupyter.notebook.execute_cells([cell_idx])\n",
       "        }\n",
       "        </script>        \n",
       "        <button onClick=\"btnClick_None(this)\">Run</button>\n",
       "        "
      ],
      "text/plain": [
       "<IPython.core.display.HTML object>"
      ]
     },
     "metadata": {},
     "output_type": "display_data"
    }
   ],
   "source": [
    "from imgui_bundle.demos_python.haikus.demo_node_love_triangle import Lover, Tie\n",
    "from imgui_bundle import imgui_node_editor as ed\n",
    "\n",
    "\n",
    "Romeo = Lover(\"Romeo\")\n",
    "Juliet = Lover(\"Juliet\")\n",
    "CountParis = Lover(\"Count Paris\")\n",
    "lovers = [Romeo, Juliet, CountParis]\n",
    "links = [\n",
    "    Tie(Romeo, \"loves\", Juliet),\n",
    "    Tie(Juliet, \"loves\", Romeo),\n",
    "    Tie(CountParis, \"loves\", Juliet),\n",
    "    Tie(CountParis, \"hates\", Romeo),\n",
    "    # Tie(Juliet, \"hates\", CountParis),\n",
    "]\n",
    "\n",
    "\n",
    "def gui_romeo_and_juliet():\n",
    "    ed.begin(\"Romeo and Juliet\")\n",
    "    for lover in lovers:\n",
    "        lover.draw()\n",
    "    for link in links:\n",
    "        link.draw()\n",
    "    ed.end()\n",
    "\n",
    "\n",
    "imgui_bundle.run_nb(\n",
    "    gui_romeo_and_juliet, window_size=(450, 450), window_title=\"It will not end well...\", thumbnail_height=200\n",
    ")"
   ]
  },
  {
   "cell_type": "code",
   "execution_count": null,
   "metadata": {},
   "outputs": [],
   "source": []
  }
 ],
 "metadata": {
  "kernelspec": {
   "display_name": "Python 3 (ipykernel)",
   "language": "python",
   "name": "python3"
  },
  "language_info": {
   "codemirror_mode": {
    "name": "ipython",
    "version": 3
   },
   "file_extension": ".py",
   "mimetype": "text/x-python",
   "name": "python",
   "nbconvert_exporter": "python",
   "pygments_lexer": "ipython3",
   "version": "3.11.0"
  },
  "toc": {
   "base_numbering": 1,
   "nav_menu": {},
   "number_sections": true,
   "sideBar": true,
   "skip_h1_title": false,
   "title_cell": "Table of Contents",
   "title_sidebar": "Contents",
   "toc_cell": false,
   "toc_position": {},
   "toc_section_display": true,
   "toc_window_display": false
  },
  "varInspector": {
   "cols": {
    "lenName": 16,
    "lenType": 16,
    "lenVar": 40
   },
   "kernels_config": {
    "python": {
     "delete_cmd_postfix": "",
     "delete_cmd_prefix": "del ",
     "library": "var_list.py",
     "varRefreshCmd": "print(var_dic_list())"
    },
    "r": {
     "delete_cmd_postfix": ") ",
     "delete_cmd_prefix": "rm(",
     "library": "var_list.r",
     "varRefreshCmd": "cat(var_dic_list()) "
    }
   },
   "types_to_exclude": [
    "module",
    "function",
    "builtin_function_or_method",
    "instance",
    "_Feature"
   ],
   "window_display": false
  },
  "vscode": {
   "interpreter": {
    "hash": "f45132d7179b8b7219f51f223da7f8e916aba8422ce78b267e8029e2edf4cf1e"
   }
  }
 },
 "nbformat": 4,
 "nbformat_minor": 4
}
