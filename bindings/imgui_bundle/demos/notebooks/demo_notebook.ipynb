{
 "cells": [
  {
   "cell_type": "code",
   "execution_count": 16,
   "metadata": {},
   "outputs": [],
   "source": [
    "import imgui_bundle\n",
    "from imgui_bundle import implot\n",
    "import numpy as np"
   ]
  },
  {
   "cell_type": "code",
   "execution_count": 17,
   "metadata": {
    "code_folding": [
     4
    ]
   },
   "outputs": [
    {
     "data": {
      "image/png": "[encoded data removed]",
      "text/plain": [
       "<PIL.Image.Image image mode=RGB size=197x202>"
      ]
     },
     "metadata": {},
     "output_type": "display_data"
    },
    {
     "data": {
      "text/html": [
       "\n",
       "        <script>\n",
       "        function btnClick_None(btn) {\n",
       "            // alert(\"btnClick_None\");\n",
       "            cell_element = btn.parentElement.parentElement.parentElement.parentElement.parentElement;\n",
       "            cell_idx = Jupyter.notebook.get_cell_elements().index(cell_element)\n",
       "            IPython.notebook.kernel.execute(\"imgui_bundle.JAVASCRIPT_RUN_ID='None'\")\n",
       "            Jupyter.notebook.execute_cells([cell_idx])\n",
       "        }\n",
       "        </script>        \n",
       "        <button onClick=\"btnClick_None(this)\">Run</button>\n",
       "        "
      ],
      "text/plain": [
       "<IPython.core.display.HTML object>"
      ]
     },
     "metadata": {},
     "output_type": "display_data"
    }
   ],
   "source": [
    "\n",
    "x = np.arange(0, np.pi * 4, 0.01)\n",
    "y = np.sin(x)\n",
    "def gui():\n",
    "    from imgui_bundle import implot\n",
    "    implot.begin_plot(\"Trig\")\n",
    "    implot.plot_line(\"Sin\", x, y)\n",
    "    implot.end_plot()\n",
    "\n",
    "def run_heart():\n",
    "    import imgui_bundle\n",
    "    imgui_bundle.run_nb(\n",
    "        gui, window_size=(101, 96), \n",
    "        window_restore_previous_geometry=True, \n",
    "        #run_id=\"cosinus\",\n",
    "        thumbnail_ratio=0.3)\n",
    "\n",
    "run_heart()"
   ]
  },
  {
   "cell_type": "code",
   "execution_count": 20,
   "metadata": {},
   "outputs": [
    {
     "data": {
      "image/png": "[encoded data removed]",
      "text/plain": [
       "<PIL.Image.Image image mode=RGB size=250x150>"
      ]
     },
     "metadata": {},
     "output_type": "display_data"
    },
    {
     "data": {
      "text/html": [
       "\n",
       "        <script>\n",
       "        function btnClick_None(btn) {\n",
       "            // alert(\"btnClick_None\");\n",
       "            cell_element = btn.parentElement.parentElement.parentElement.parentElement.parentElement;\n",
       "            cell_idx = Jupyter.notebook.get_cell_elements().index(cell_element)\n",
       "            IPython.notebook.kernel.execute(\"imgui_bundle.JAVASCRIPT_RUN_ID='None'\")\n",
       "            Jupyter.notebook.execute_cells([cell_idx])\n",
       "        }\n",
       "        </script>        \n",
       "        <button onClick=\"btnClick_None(this)\">Run</button>\n",
       "        "
      ],
      "text/plain": [
       "<IPython.core.display.HTML object>"
      ]
     },
     "metadata": {},
     "output_type": "display_data"
    }
   ],
   "source": [
    "def mixed_plot():\n",
    "    implot.push_colormap(implot.ImPlotColormap_.deep)\n",
    "    if implot.begin_plot(\"Mixed plot\"):\n",
    "        implot.setup_axes(\"x-axis\", \"y-axis\")\n",
    "        implot.setup_axes_limits(-0.5, 9.5, 0, 10)\n",
    "        lin = np.array([8,8,9,7,8,8,8,9,7,8])\n",
    "        bar = np.array([1,2,5,3,4,1,2,5,3,4])\n",
    "        dot = np.array([7,6,6,7,8,5,6,5,8,7])\n",
    "        implot.plot_bars(\"Bars\", bar, 0.5)\n",
    "        implot.plot_line(\"Line\", lin)\n",
    "        implot.next_colormap_color() # skip green\n",
    "        implot.plot_scatter(\"Scatter\", dot)\n",
    "        implot.end_plot()\n",
    "\n",
    "        \n",
    "imgui_bundle.run_nb(mixed_plot, window_size=(500, 300))"
   ]
  },
  {
   "cell_type": "code",
   "execution_count": null,
   "metadata": {},
   "outputs": [],
   "source": []
  }
 ],
 "metadata": {
  "kernelspec": {
   "display_name": "Python 3 (ipykernel)",
   "language": "python",
   "name": "python3"
  },
  "language_info": {
   "codemirror_mode": {
    "name": "ipython",
    "version": 3
   },
   "file_extension": ".py",
   "mimetype": "text/x-python",
   "name": "python",
   "nbconvert_exporter": "python",
   "pygments_lexer": "ipython3",
   "version": "3.9.12"
  },
  "toc": {
   "base_numbering": 1,
   "nav_menu": {},
   "number_sections": true,
   "sideBar": true,
   "skip_h1_title": false,
   "title_cell": "Table of Contents",
   "title_sidebar": "Contents",
   "toc_cell": false,
   "toc_position": {},
   "toc_section_display": true,
   "toc_window_display": false
  },
  "varInspector": {
   "cols": {
    "lenName": 16,
    "lenType": 16,
    "lenVar": 40
   },
   "kernels_config": {
    "python": {
     "delete_cmd_postfix": "",
     "delete_cmd_prefix": "del ",
     "library": "var_list.py",
     "varRefreshCmd": "print(var_dic_list())"
    },
    "r": {
     "delete_cmd_postfix": ") ",
     "delete_cmd_prefix": "rm(",
     "library": "var_list.r",
     "varRefreshCmd": "cat(var_dic_list()) "
    }
   },
   "types_to_exclude": [
    "module",
    "function",
    "builtin_function_or_method",
    "instance",
    "_Feature"
   ],
   "window_display": false
  },
  "vscode": {
   "interpreter": {
    "hash": "f45132d7179b8b7219f51f223da7f8e916aba8422ce78b267e8029e2edf4cf1e"
   }
  }
 },
 "nbformat": 4,
 "nbformat_minor": 4
}
