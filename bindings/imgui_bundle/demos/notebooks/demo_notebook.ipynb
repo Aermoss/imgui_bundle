{
 "cells": [
  {
   "cell_type": "code",
   "execution_count": 1,
   "metadata": {},
   "outputs": [],
   "source": [
    "import imgui_bundle\n"
   ]
  },
  {
   "cell_type": "code",
   "execution_count": 4,
   "metadata": {},
   "outputs": [],
   "source": [
    "import numpy as np\n",
    "\n",
    "x = np.arange(0, np.pi * 4, 0.01)\n",
    "y = np.sin(x)\n",
    "\n",
    "\n",
    "def gui():\n",
    "    from imgui_bundle import implot\n",
    "    implot.begin_plot(\"Trig\")\n",
    "    implot.plot_line(\"Sin\", x, y)\n",
    "    implot.end_plot()\n",
    "\n",
    "\n",
    "def run_heart():\n",
    "    import imgui_bundle\n",
    "    imgui_bundle.run_nb(gui)"
   ]
  },
  {
   "cell_type": "code",
   "execution_count": 8,
   "metadata": {},
   "outputs": [
    {
     "name": "stderr",
     "output_type": "stream",
     "text": [
      "InitializeMarkdown can only be called once at application startup!\n"
     ]
    }
   ],
   "source": [
    "run_heart()"
   ]
  }
 ],
 "metadata": {
  "kernelspec": {
   "display_name": "Python 3.9.12 ('venv': venv)",
   "language": "python",
   "name": "python3"
  },
  "language_info": {
   "codemirror_mode": {
    "name": "ipython",
    "version": 3
   },
   "file_extension": ".py",
   "mimetype": "text/x-python",
   "name": "python",
   "nbconvert_exporter": "python",
   "pygments_lexer": "ipython3",
   "version": "3.9.12"
  },
  "orig_nbformat": 4,
  "vscode": {
   "interpreter": {
    "hash": "f45132d7179b8b7219f51f223da7f8e916aba8422ce78b267e8029e2edf4cf1e"
   }
  }
 },
 "nbformat": 4,
 "nbformat_minor": 2
}
